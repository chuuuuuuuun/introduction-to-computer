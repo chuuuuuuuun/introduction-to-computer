{
  "nbformat": 4,
  "nbformat_minor": 0,
  "metadata": {
    "colab": {
      "name": "0509.ipynb",
      "provenance": [],
      "authorship_tag": "ABX9TyMI1ZW5vaV3uc+F+gHvV4BB",
      "include_colab_link": true
    },
    "kernelspec": {
      "name": "python3",
      "display_name": "Python 3"
    },
    "language_info": {
      "name": "python"
    }
  },
  "cells": [
    {
      "cell_type": "markdown",
      "metadata": {
        "id": "view-in-github",
        "colab_type": "text"
      },
      "source": [
        "<a href=\"https://colab.research.google.com/github/chuuuuuuuun/introduction-to-computer/blob/main/0509.ipynb\" target=\"_parent\"><img src=\"https://colab.research.google.com/assets/colab-badge.svg\" alt=\"Open In Colab\"/></a>"
      ]
    },
    {
      "cell_type": "code",
      "execution_count": 11,
      "metadata": {
        "colab": {
          "base_uri": "https://localhost:8080/"
        },
        "id": "wHO7r4y27jsw",
        "outputId": "ab315c84-b6ba-4a65-c28a-de0f7d3cb516"
      },
      "outputs": [
        {
          "output_type": "stream",
          "name": "stdout",
          "text": [
            "請輸入你得體:36\n",
            "體溫正常！\n"
          ]
        }
      ],
      "source": [
        "temp=float(input('請輸入你的體溫:'))\n",
        "if temp>=37.5:\n",
        "    print('體溫過高！')\n",
        "elif temp>=37 and temp<37.4:\n",
        "    print('體溫略高！')\n",
        "elif temp>=34 or temp<=36.9:\n",
        "    print('體溫正常！')\n",
        "else:\n",
        "    print('體溫異常,請重新測量！')"
      ]
    },
    {
      "cell_type": "code",
      "source": [
        "G=int(input('請輸入成績:'))\n",
        "if G>=90:\n",
        "    print('A')\n",
        "elif G>=80:\n",
        "    print('B')\n",
        "elif G>=70:\n",
        "    print('C')\n",
        "elif G>=60:\n",
        "    print('D')\n",
        "else:\n",
        "    print('E')"
      ],
      "metadata": {
        "colab": {
          "base_uri": "https://localhost:8080/"
        },
        "id": "7NHyEnDSAUiZ",
        "outputId": "4370e2b6-67a8-4f86-b7db-8793f5082a68"
      },
      "execution_count": 18,
      "outputs": [
        {
          "output_type": "stream",
          "name": "stdout",
          "text": [
            "請輸入成績:45\n",
            "E\n"
          ]
        }
      ]
    },
    {
      "cell_type": "code",
      "source": [
        "money=int(input('請輸入購物金額:'))\n",
        "if money>=10000:\n",
        "    if money>=100000:\n",
        "          print('八折',money*0.8,end='元\\n')\n",
        "    elif money>=50000:\n",
        "          print('八五折',money*0.85,end='元\\n')\n",
        "    elif money>=30000:\n",
        "          print('九折',money*0.9,end='元\\n')\n",
        "    else:\n",
        "          print('九五折',money*0.95,end='元\\n')\n",
        "else:\n",
        "    print('沒打折',money,end='元\\n')"
      ],
      "metadata": {
        "colab": {
          "base_uri": "https://localhost:8080/"
        },
        "id": "jhmtaH2cF7e8",
        "outputId": "ffd1aeb4-dd9c-440e-c59e-394050b6ce12"
      },
      "execution_count": 15,
      "outputs": [
        {
          "output_type": "stream",
          "name": "stdout",
          "text": [
            "請輸入購物金額:100\n",
            "沒打折 100元\n"
          ]
        }
      ]
    },
    {
      "cell_type": "code",
      "source": [
        "month=int(input('請輸入月份:'))\n",
        "if month>=3 and month<=5:\n",
        "    print(month,'月是春天！',sep='')\n",
        "elif month>=6 and month<=8:\n",
        "    print(month,'月是夏天！',sep='')\n",
        "elif month>=9 and month<=11:\n",
        "    print(month,'月是秋天！',sep='')\n",
        "elif month>12:\n",
        "    print('月份不在範圍內')\n",
        "else:\n",
        "    print(month,'月是冬天！',sep='')"
      ],
      "metadata": {
        "colab": {
          "base_uri": "https://localhost:8080/"
        },
        "id": "zyAGBiJ9IQi2",
        "outputId": "3c7d0e46-bd26-461d-8d89-5f60a6d55a73"
      },
      "execution_count": 53,
      "outputs": [
        {
          "output_type": "stream",
          "name": "stdout",
          "text": [
            "請輸入月份:13\n",
            "月份不在範圍內\n"
          ]
        }
      ]
    },
    {
      "cell_type": "code",
      "source": [
        "m=int(input('請輸入收入金額：'))\n",
        "if m>=300000:\n",
        "    if m>=2000000:\n",
        "        print('付稅金額：',m*0.3,'元')\n",
        "    elif m>=1000000:\n",
        "        print('付稅金額：',m*0.21,'元')\n",
        "    elif m>=600000:\n",
        "        print('付稅金額：',m*0.13,'元')\n",
        "    elif m>=300000:\n",
        "        print('付稅金額：',m*0.06,'元')\n",
        "else:\n",
        "    print('付稅金額:',m*0,'元')"
      ],
      "metadata": {
        "colab": {
          "base_uri": "https://localhost:8080/"
        },
        "id": "yIk1SxOvw9uJ",
        "outputId": "d533b478-549f-472d-fc0c-9068ec5c01b3"
      },
      "execution_count": 63,
      "outputs": [
        {
          "output_type": "stream",
          "name": "stdout",
          "text": [
            "請輸入收入金額：100000\n",
            "付稅金額: 0 元\n"
          ]
        }
      ]
    }
  ]
}