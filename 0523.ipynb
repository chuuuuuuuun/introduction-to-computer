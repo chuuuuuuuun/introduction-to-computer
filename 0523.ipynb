{
  "nbformat": 4,
  "nbformat_minor": 0,
  "metadata": {
    "colab": {
      "name": "0523.ipynb",
      "provenance": [],
      "authorship_tag": "ABX9TyMu8upoqG1bKT/5nJJyHiZC",
      "include_colab_link": true
    },
    "kernelspec": {
      "name": "python3",
      "display_name": "Python 3"
    },
    "language_info": {
      "name": "python"
    }
  },
  "cells": [
    {
      "cell_type": "markdown",
      "metadata": {
        "id": "view-in-github",
        "colab_type": "text"
      },
      "source": [
        "<a href=\"https://colab.research.google.com/github/chuuuuuuuun/introduction-to-computer/blob/main/0523.ipynb\" target=\"_parent\"><img src=\"https://colab.research.google.com/assets/colab-badge.svg\" alt=\"Open In Colab\"/></a>"
      ]
    },
    {
      "cell_type": "code",
      "execution_count": 1,
      "metadata": {
        "colab": {
          "base_uri": "https://localhost:8080/"
        },
        "id": "0RnIxNDP_Duh",
        "outputId": "df7159d9-06c1-4b77-f4c7-b22b6510a14a"
      },
      "outputs": [
        {
          "output_type": "stream",
          "name": "stdout",
          "text": [
            "請輸入一個正整數：10\n",
            "1到 10 的整數和為 55\n"
          ]
        }
      ],
      "source": [
        "sum=0\n",
        "test=int(input('請輸入一個正整數：'))\n",
        "for n in range(1,test+1):\n",
        "    sum=sum+n\n",
        "print('1到',test,'的整數和為',sum)"
      ]
    },
    {
      "cell_type": "code",
      "source": [
        "sum=0\n",
        "test=int(input('請輸入一個正整數：'))\n",
        "for m in range(1,test+1):\n",
        "    sum=sum+m\n",
        "    print('1到',str(m),'的整數和為',sum)"
      ],
      "metadata": {
        "colab": {
          "base_uri": "https://localhost:8080/"
        },
        "id": "bge1IPaNACEE",
        "outputId": "47ee58f4-b380-4645-a13b-e9107603089e"
      },
      "execution_count": 5,
      "outputs": [
        {
          "output_type": "stream",
          "name": "stdout",
          "text": [
            "請輸入一個正整數：10\n",
            "1到 1 的整數和為 1\n",
            "1到 2 的整數和為 3\n",
            "1到 3 的整數和為 6\n",
            "1到 4 的整數和為 10\n",
            "1到 5 的整數和為 15\n",
            "1到 6 的整數和為 21\n",
            "1到 7 的整數和為 28\n",
            "1到 8 的整數和為 36\n",
            "1到 9 的整數和為 45\n",
            "1到 10 的整數和為 55\n"
          ]
        }
      ]
    },
    {
      "cell_type": "code",
      "source": [
        "for j in range(1,5):\n",
        "    print(j)\n",
        "    for i in range(1,3):\n",
        "        k=i*j\n",
        "        print(j,'*',i,'=',k)"
      ],
      "metadata": {
        "colab": {
          "base_uri": "https://localhost:8080/"
        },
        "id": "5z9BsP9tAwdX",
        "outputId": "36bc6dea-e25a-476f-839f-ff8058e5f178"
      },
      "execution_count": 10,
      "outputs": [
        {
          "output_type": "stream",
          "name": "stdout",
          "text": [
            "1\n",
            "1 * 1 = 1\n",
            "1 * 2 = 2\n",
            "2\n",
            "2 * 1 = 2\n",
            "2 * 2 = 4\n",
            "3\n",
            "3 * 1 = 3\n",
            "3 * 2 = 6\n",
            "4\n",
            "4 * 1 = 4\n",
            "4 * 2 = 8\n"
          ]
        }
      ]
    },
    {
      "cell_type": "code",
      "source": [
        "for j in range(1,5+1):\n",
        "    print(j)\n",
        "    for i in range(1,3):\n",
        "        k=i*j\n",
        "        print(j,'*',i,'=',k)"
      ],
      "metadata": {
        "colab": {
          "base_uri": "https://localhost:8080/"
        },
        "id": "GpeexsxXDYFd",
        "outputId": "a84f7760-2c71-42c8-b0ef-ca0de6e262ad"
      },
      "execution_count": 11,
      "outputs": [
        {
          "output_type": "stream",
          "name": "stdout",
          "text": [
            "1\n",
            "1 * 1 = 1\n",
            "1 * 2 = 2\n",
            "2\n",
            "2 * 1 = 2\n",
            "2 * 2 = 4\n",
            "3\n",
            "3 * 1 = 3\n",
            "3 * 2 = 6\n",
            "4\n",
            "4 * 1 = 4\n",
            "4 * 2 = 8\n",
            "5\n",
            "5 * 1 = 5\n",
            "5 * 2 = 10\n"
          ]
        }
      ]
    },
    {
      "cell_type": "code",
      "source": [
        "for j in range(2,10):\n",
        "    for i in range(1,10):\n",
        "        k=i*j\n",
        "        print(j,'*',i,'=',k,end='\\t')\n",
        "    print()"
      ],
      "metadata": {
        "colab": {
          "base_uri": "https://localhost:8080/"
        },
        "id": "bXR5DIebENay",
        "outputId": "70cb0fdf-b98b-4f7d-8af4-a5a4a49309f0"
      },
      "execution_count": 33,
      "outputs": [
        {
          "output_type": "stream",
          "name": "stdout",
          "text": [
            "2 * 1 = 2\t2 * 2 = 4\t2 * 3 = 6\t2 * 4 = 8\t2 * 5 = 10\t2 * 6 = 12\t2 * 7 = 14\t2 * 8 = 16\t2 * 9 = 18\t\n",
            "3 * 1 = 3\t3 * 2 = 6\t3 * 3 = 9\t3 * 4 = 12\t3 * 5 = 15\t3 * 6 = 18\t3 * 7 = 21\t3 * 8 = 24\t3 * 9 = 27\t\n",
            "4 * 1 = 4\t4 * 2 = 8\t4 * 3 = 12\t4 * 4 = 16\t4 * 5 = 20\t4 * 6 = 24\t4 * 7 = 28\t4 * 8 = 32\t4 * 9 = 36\t\n",
            "5 * 1 = 5\t5 * 2 = 10\t5 * 3 = 15\t5 * 4 = 20\t5 * 5 = 25\t5 * 6 = 30\t5 * 7 = 35\t5 * 8 = 40\t5 * 9 = 45\t\n",
            "6 * 1 = 6\t6 * 2 = 12\t6 * 3 = 18\t6 * 4 = 24\t6 * 5 = 30\t6 * 6 = 36\t6 * 7 = 42\t6 * 8 = 48\t6 * 9 = 54\t\n",
            "7 * 1 = 7\t7 * 2 = 14\t7 * 3 = 21\t7 * 4 = 28\t7 * 5 = 35\t7 * 6 = 42\t7 * 7 = 49\t7 * 8 = 56\t7 * 9 = 63\t\n",
            "8 * 1 = 8\t8 * 2 = 16\t8 * 3 = 24\t8 * 4 = 32\t8 * 5 = 40\t8 * 6 = 48\t8 * 7 = 56\t8 * 8 = 64\t8 * 9 = 72\t\n",
            "9 * 1 = 9\t9 * 2 = 18\t9 * 3 = 27\t9 * 4 = 36\t9 * 5 = 45\t9 * 6 = 54\t9 * 7 = 63\t9 * 8 = 72\t9 * 9 = 81\t\n"
          ]
        }
      ]
    },
    {
      "cell_type": "code",
      "source": [
        "for i in range(1,5):\n",
        "    if (i==4):\n",
        "        break\n",
        "    print(i,end=' ')"
      ],
      "metadata": {
        "colab": {
          "base_uri": "https://localhost:8080/"
        },
        "id": "f9M07f77EjEg",
        "outputId": "3f86fd2f-7855-4509-e27c-f828c241a541"
      },
      "execution_count": 16,
      "outputs": [
        {
          "output_type": "stream",
          "name": "stdout",
          "text": [
            "1 2 3 "
          ]
        }
      ]
    },
    {
      "cell_type": "code",
      "source": [
        "for i in range(1,5):\n",
        "    if (i==4):\n",
        "        continue\n",
        "    print(i,end=' ')"
      ],
      "metadata": {
        "colab": {
          "base_uri": "https://localhost:8080/"
        },
        "id": "iF1dhyLlFLdx",
        "outputId": "e08b0882-f1b5-40b5-c6de-383a0cfbac6c"
      },
      "execution_count": 19,
      "outputs": [
        {
          "output_type": "stream",
          "name": "stdout",
          "text": [
            "1 2 3 "
          ]
        }
      ]
    },
    {
      "cell_type": "code",
      "source": [
        "conunt=0\n",
        "for string in '測試看看!':\n",
        "    conunt+=1\n",
        "    if string=='看':\n",
        "        break\n",
        "    print(string)\n",
        "print('迴圈結束！')\n",
        "print('迴圈執行了%d次'%conunt)\n"
      ],
      "metadata": {
        "colab": {
          "base_uri": "https://localhost:8080/"
        },
        "id": "PbXOS0y8FykD",
        "outputId": "dba67bef-eda6-45b0-f27f-15ea08e57626"
      },
      "execution_count": 25,
      "outputs": [
        {
          "output_type": "stream",
          "name": "stdout",
          "text": [
            "測\n",
            "試\n",
            "迴圈結束！\n",
            "迴圈執行了3次\n"
          ]
        }
      ]
    },
    {
      "cell_type": "code",
      "source": [
        "conunt=0\n",
        "for string in 'LOVE':\n",
        "    conunt=+1\n",
        "    if string=='V':\n",
        "        break\n",
        "    print(string)\n",
        "print('迴圈結束！')\n",
        "print('迴圈執行了%d次'%conunt)"
      ],
      "metadata": {
        "colab": {
          "base_uri": "https://localhost:8080/"
        },
        "id": "qLTMzcj0HNS8",
        "outputId": "7ee2ce17-38cf-4248-c295-55349c1f82dd"
      },
      "execution_count": 31,
      "outputs": [
        {
          "output_type": "stream",
          "name": "stdout",
          "text": [
            "L\n",
            "O\n",
            "迴圈結束！\n",
            "迴圈執行了1次\n"
          ]
        }
      ]
    },
    {
      "cell_type": "code",
      "source": [
        "a=int(input('請輸入a的值：'))\n",
        "b=int(input('請輸入b的值：'))\n",
        "for i in range(1,(a*b)+1):\n",
        "    if i%a==0 and i%b==0:\n",
        "        break\n",
        "print(a,'和',b,'的最小公倍數=%d' %(i))\n"
      ],
      "metadata": {
        "colab": {
          "base_uri": "https://localhost:8080/"
        },
        "id": "09VY0e8sIQse",
        "outputId": "35568e3d-d8a5-46c0-964f-829cb446b327"
      },
      "execution_count": 41,
      "outputs": [
        {
          "output_type": "stream",
          "name": "stdout",
          "text": [
            "請輸入a的值：9\n",
            "請輸入b的值：15\n",
            "9 和 15 的最小公倍數=45\n"
          ]
        }
      ]
    },
    {
      "cell_type": "code",
      "source": [
        "test=int(input('請輸入一個正整數：'))\n",
        "for i in range(1,test):\n",
        "    if i%5==0:\n",
        "        continue\n",
        "    print(i,end=' ')"
      ],
      "metadata": {
        "colab": {
          "base_uri": "https://localhost:8080/"
        },
        "id": "fzpukB-QKQpe",
        "outputId": "c90841de-34bb-4c81-ad47-6eeb48bd7da7"
      },
      "execution_count": 52,
      "outputs": [
        {
          "output_type": "stream",
          "name": "stdout",
          "text": [
            "請輸入一個正整數：21\n",
            "1 2 3 4 6 7 8 9 11 12 13 14 16 17 18 19 "
          ]
        }
      ]
    }
  ]
}